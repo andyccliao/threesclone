{
 "cells": [
  {
   "cell_type": "code",
   "execution_count": 2,
   "metadata": {
    "scrolled": true
   },
   "outputs": [
    {
     "name": "stdout",
     "output_type": "stream",
     "text": [
      "0\t2\t0\t2\t\n",
      "0\t3\t1\t2\t\n",
      "3\t0\t0\t1\t\n",
      "0\t3\t2\t0\t\n"
     ]
    }
   ],
   "source": [
    "import threesclone as tc\n",
    "\n",
    "game = tc.Game()\n",
    "print(game)"
   ]
  },
  {
   "cell_type": "code",
   "execution_count": 7,
   "metadata": {},
   "outputs": [
    {
     "name": "stdout",
     "output_type": "stream",
     "text": [
      "3\t2\t3\t1\t\n",
      "6\t3\t0\t0\t\n",
      "6\t0\t0\t0\t\n",
      "1\t0\t0\t2\t\n"
     ]
    }
   ],
   "source": [
    "game.shift('left')\n",
    "print(game)"
   ]
  },
  {
   "cell_type": "code",
   "execution_count": 8,
   "metadata": {},
   "outputs": [
    {
     "name": "stdout",
     "output_type": "stream",
     "text": [
      "3\t2\t3\t1\t\n",
      "12\t3\t0\t0\t\n",
      "1\t0\t0\t2\t\n",
      "0\t0\t0\t1\t\n"
     ]
    }
   ],
   "source": [
    "game.shift('up')\n",
    "print(game)"
   ]
  },
  {
   "cell_type": "code",
   "execution_count": null,
   "metadata": {
    "collapsed": true
   },
   "outputs": [],
   "source": []
  }
 ],
 "metadata": {
  "kernelspec": {
   "display_name": "Python 3",
   "language": "python",
   "name": "python3"
  },
  "language_info": {
   "codemirror_mode": {
    "name": "ipython",
    "version": 3
   },
   "file_extension": ".py",
   "mimetype": "text/x-python",
   "name": "python",
   "nbconvert_exporter": "python",
   "pygments_lexer": "ipython3",
   "version": "3.5.4"
  }
 },
 "nbformat": 4,
 "nbformat_minor": 2
}
